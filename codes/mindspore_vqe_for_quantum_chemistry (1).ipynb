{
 "cells": [
  {
   "cell_type": "code",
   "execution_count": 2,
   "id": "0fa38838",
   "metadata": {
    "scrolled": true
   },
   "outputs": [],
   "source": [
    "from openfermion.chem import MolecularData\n",
    "from openfermionpyscf import run_pyscf\n",
    "from mindquantum.core.gates import X\n",
    "from mindquantum.core.circuit import Circuit\n",
    "from mindquantum.core.operators import Hamiltonian\n",
    "from mindquantum.simulator import Simulator\n",
    "from mindquantum.algorithm.nisq import generate_uccsd\n",
    "import mindspore as ms\n",
    "\n",
    "ms.set_context(mode=ms.PYNATIVE_MODE, device_target=\"CPU\")"
   ]
  },
  {
   "cell_type": "code",
   "execution_count": 3,
   "id": "4d322d8a",
   "metadata": {},
   "outputs": [
    {
     "name": "stdout",
     "output_type": "stream",
     "text": [
      "Geometry: \n",
      " [['Li', [0.0, 0.0, 0.0]], ['H', [0.0, 0.0, 1.545]]]\n"
     ]
    }
   ],
   "source": [
    "dist = 1.545\n",
    "geometry = [\n",
    "    [\"Li\", [0.0, 0.0, 0.0 * dist]],\n",
    "    [\"H\", [0.0, 0.0, 1.0 * dist]],\n",
    "]\n",
    "basis = \"sto3g\"\n",
    "spin = 0\n",
    "print(\"Geometry: \\n\", geometry)"
   ]
  },
  {
   "cell_type": "code",
   "execution_count": 5,
   "id": "5e6b2fab",
   "metadata": {},
   "outputs": [
    {
     "name": "stdout",
     "output_type": "stream",
     "text": [
      "Hartree-Fock energy:  -7.8631473861153172 Ha\n",
      "CCSD energy:  -7.8827512750262025 Ha\n",
      "FCI energy:  -7.8827611661209840 Ha\n"
     ]
    }
   ],
   "source": [
    "molecule_of = MolecularData(\n",
    "    geometry,\n",
    "    basis,\n",
    "    multiplicity=2 * spin + 1\n",
    ")\n",
    "molecule_of = run_pyscf(\n",
    "    molecule_of,\n",
    "    run_scf=1,\n",
    "    run_ccsd=1,\n",
    "    run_fci=1\n",
    ")\n",
    "\n",
    "print(\"Hartree-Fock energy: %20.16f Ha\" % (molecule_of.hf_energy))\n",
    "print(\"CCSD energy: %20.16f Ha\" % (molecule_of.ccsd_energy))\n",
    "print(\"FCI energy: %20.16f Ha\" % (molecule_of.fci_energy))"
   ]
  },
  {
   "cell_type": "code",
   "execution_count": 6,
   "id": "d983c107",
   "metadata": {},
   "outputs": [
    {
     "name": "stdout",
     "output_type": "stream",
     "text": [
      "H1-Li1_sto3g_singlet\n"
     ]
    }
   ],
   "source": [
    "molecule_of.save()\n",
    "molecule_file = molecule_of.filename\n",
    "print(molecule_file.split('/')[-1])"
   ]
  },
  {
   "cell_type": "code",
   "execution_count": 7,
   "id": "32a3cafd",
   "metadata": {},
   "outputs": [
    {
     "name": "stdout",
     "output_type": "stream",
     "text": [
      "      ┏━━━┓   \n",
      "q0: ──┨╺╋╸┠───\n",
      "      ┗━━━┛   \n",
      "      ┏━━━┓   \n",
      "q1: ──┨╺╋╸┠───\n",
      "      ┗━━━┛   \n",
      "      ┏━━━┓   \n",
      "q2: ──┨╺╋╸┠───\n",
      "      ┗━━━┛   \n",
      "      ┏━━━┓   \n",
      "q3: ──┨╺╋╸┠───\n",
      "      ┗━━━┛   \n"
     ]
    }
   ],
   "source": [
    "hartreefock_wfn_circuit = Circuit([X.on(i) for i in range(molecule_of.n_electrons)])\n",
    "print(hartreefock_wfn_circuit)"
   ]
  },
  {
   "cell_type": "code",
   "execution_count": 34,
   "id": "002f8dd8",
   "metadata": {},
   "outputs": [
    {
     "name": "stdout",
     "output_type": "stream",
     "text": [
      "ccsd:-7.8827512750262025.\n",
      "fci:-7.882761166120984.\n"
     ]
    }
   ],
   "source": [
    "ansatz_circuit, \\\n",
    "init_amplitudes, \\\n",
    "ansatz_parameter_names, \\\n",
    "hamiltonian_QubitOp, \\\n",
    "n_qubits, n_electrons = generate_uccsd(molecule_file, threshold=-1)"
   ]
  },
  {
   "cell_type": "code",
   "execution_count": 10,
   "id": "d2210b4f",
   "metadata": {},
   "outputs": [
    {
     "data": {
      "text/html": [
       "<pre style=\"white-space:pre;overflow-x:auto;line-height:normal;font-family:Menlo,'DejaVu Sans Mono',consolas,'Courier New',monospace\"><span style=\"color: #ff0000; text-decoration-color: #ff0000; font-weight: bold\">                            Circuit Summary                            </span>\n",
       "╭──────────────────────┬──────────────────────────────────────────────╮\n",
       "│<span style=\"font-weight: bold\"> </span><span style=\"color: #3b3b95; text-decoration-color: #3b3b95; font-weight: bold\">Info</span><span style=\"font-weight: bold\">                 </span>│<span style=\"font-weight: bold\"> </span><span style=\"color: #3b3b95; text-decoration-color: #3b3b95; font-weight: bold\">value</span><span style=\"font-weight: bold\">                                        </span>│\n",
       "├──────────────────────┼──────────────────────────────────────────────┤\n",
       "│ <span style=\"font-weight: bold\">Number of qubit</span>      │ 12                                           │\n",
       "├──────────────────────┼──────────────────────────────────────────────┤\n",
       "│ <span style=\"font-weight: bold\">Total number of gate</span> │ 12612                                        │\n",
       "│ Barrier              │ 2560                                         │\n",
       "│ Noise Channel        │ 0                                            │\n",
       "│ Measurement          │ 0                                            │\n",
       "├──────────────────────┼──────────────────────────────────────────────┤\n",
       "│ <span style=\"font-weight: bold\">Parameter gate</span>       │ 640                                          │\n",
       "│ 44 ansatz parameters │ <span style=\"color: #48c9b0; text-decoration-color: #48c9b0\">p0, p8, p1, p9, p2, p10, p3, p11, p4, p12...</span> │\n",
       "╰──────────────────────┴──────────────────────────────────────────────╯\n",
       "</pre>\n"
      ],
      "text/plain": [
       "\u001b[1;38;2;255;0;0m                            Circuit Summary                            \u001b[0m\n",
       "╭──────────────────────┬──────────────────────────────────────────────╮\n",
       "│\u001b[1m \u001b[0m\u001b[1;38;2;59;59;149mInfo\u001b[0m\u001b[1m                \u001b[0m\u001b[1m \u001b[0m│\u001b[1m \u001b[0m\u001b[1;38;2;59;59;149mvalue\u001b[0m\u001b[1m                                       \u001b[0m\u001b[1m \u001b[0m│\n",
       "├──────────────────────┼──────────────────────────────────────────────┤\n",
       "│ \u001b[1mNumber of qubit\u001b[0m      │ 12                                           │\n",
       "├──────────────────────┼──────────────────────────────────────────────┤\n",
       "│ \u001b[1mTotal number of gate\u001b[0m │ 12612                                        │\n",
       "│ Barrier              │ 2560                                         │\n",
       "│ Noise Channel        │ 0                                            │\n",
       "│ Measurement          │ 0                                            │\n",
       "├──────────────────────┼──────────────────────────────────────────────┤\n",
       "│ \u001b[1mParameter gate\u001b[0m       │ 640                                          │\n",
       "│ 44 ansatz parameters │ \u001b[38;2;72;201;176mp0, p8, p1, p9, p2, p10, p3, p11, p4, p12...\u001b[0m │\n",
       "╰──────────────────────┴──────────────────────────────────────────────╯\n"
      ]
     },
     "metadata": {},
     "output_type": "display_data"
    },
    {
     "name": "stdout",
     "output_type": "stream",
     "text": [
      "Number of parameters: 44\n"
     ]
    }
   ],
   "source": [
    "total_circuit = hartreefock_wfn_circuit + ansatz_circuit\n",
    "total_circuit.summary()\n",
    "print(\"Number of parameters: %d\" % (len(ansatz_parameter_names)))"
   ]
  },
  {
   "cell_type": "code",
   "execution_count": 11,
   "id": "16b5d1c3",
   "metadata": {},
   "outputs": [],
   "source": [
    "sim = Simulator('mqvector', total_circuit.n_qubits)\n",
    "molecule_pqc = sim.get_expectation_with_grad(Hamiltonian(hamiltonian_QubitOp), total_circuit)"
   ]
  },
  {
   "cell_type": "code",
   "execution_count": 13,
   "id": "46d4958c",
   "metadata": {},
   "outputs": [
    {
     "name": "stdout",
     "output_type": "stream",
     "text": [
      "Energy:  [[-7.86314739+0.j]] \n",
      "shape:  (1, 1) \n",
      "\n",
      "Gradient:  [[[ 1.34471767e-10+0.j -8.63397351e-02+0.j  3.03317819e-08+0.j\n",
      "   -5.01435225e-02+0.j -1.11986448e-14+0.j -3.92742288e-02+0.j\n",
      "   -9.79661342e-15+0.j -9.49169980e-02+0.j  2.56777171e-15+0.j\n",
      "   -3.92742288e-02+0.j  8.67624335e-15+0.j -9.49169980e-02+0.j\n",
      "   -4.03653034e-11+0.j -3.14736683e-02+0.j  1.05200741e-09+0.j\n",
      "   -4.93444721e-01+0.j -8.33135441e-04+0.j -1.67128982e-16+0.j\n",
      "   -3.39336902e-17+0.j  1.64062196e-17+0.j  1.56089270e-16+0.j\n",
      "    2.63247357e-17+0.j -2.29227406e-17+0.j  7.18235103e-03+0.j\n",
      "    6.77141563e-03+0.j -1.21372104e-02+0.j -5.02920277e-17+0.j\n",
      "    8.58644573e-18+0.j  1.35881050e-01+0.j -3.01404119e-02+0.j\n",
      "   -3.06658683e-19+0.j  6.13317367e-19+0.j -1.01673171e-30+0.j\n",
      "    6.40916648e-17+0.j -4.62884519e-17+0.j  3.63715716e-17+0.j\n",
      "    1.43266077e-28+0.j  1.14782419e-16+0.j -3.01404119e-02+0.j\n",
      "   -5.73451738e-17+0.j  5.60694299e-17+0.j -4.53927047e-17+0.j\n",
      "   -2.38935339e-17+0.j -9.91196389e-04+0.j]]] \n",
      "shape:  (1, 1, 44)\n"
     ]
    }
   ],
   "source": [
    "import numpy as np\n",
    "\n",
    "n_params = len(total_circuit.params_name)\n",
    "p0 = np.zeros(n_params)\n",
    "f, g = molecule_pqc(p0)\n",
    "print(\"Energy: \", f, \"\\nshape: \", f.shape, '\\n')\n",
    "print(\"Gradient: \", g, \"\\nshape: \", g.shape)"
   ]
  },
  {
   "cell_type": "code",
   "execution_count": 15,
   "id": "2bd09b88",
   "metadata": {},
   "outputs": [
    {
     "data": {
      "text/plain": [
       "(-7.863147386117156,\n",
       " array([ 1.34471767e-10, -8.63397351e-02,  3.03317819e-08, -5.01435225e-02,\n",
       "        -1.11986448e-14, -3.92742288e-02, -9.79661342e-15, -9.49169980e-02,\n",
       "         2.56777171e-15, -3.92742288e-02,  8.67624335e-15, -9.49169980e-02,\n",
       "        -4.03653034e-11, -3.14736683e-02,  1.05200741e-09, -4.93444721e-01,\n",
       "        -8.33135441e-04, -1.67128982e-16, -3.39336902e-17,  1.64062196e-17,\n",
       "         1.56089270e-16,  2.63247357e-17, -2.29227406e-17,  7.18235103e-03,\n",
       "         6.77141563e-03, -1.21372104e-02, -5.02920277e-17,  8.58644573e-18,\n",
       "         1.35881050e-01, -3.01404119e-02, -3.06658683e-19,  6.13317367e-19,\n",
       "        -1.01673171e-30,  6.40916648e-17, -4.62884519e-17,  3.63715716e-17,\n",
       "         1.43266077e-28,  1.14782419e-16, -3.01404119e-02, -5.73451738e-17,\n",
       "         5.60694299e-17, -4.53927047e-17, -2.38935339e-17, -9.91196389e-04]))"
      ]
     },
     "execution_count": 15,
     "metadata": {},
     "output_type": "execute_result"
    }
   ],
   "source": [
    "def fun(p0, molecule_pqc, energy_list=None):\n",
    "    f, g = molecule_pqc(p0)\n",
    "    f = np.real(f)[0, 0]\n",
    "    g = np.real(g)[0, 0]\n",
    "    if energy_list is not None:\n",
    "        energy_list.append(f)\n",
    "        if len(energy_list) % 5 == 0:\n",
    "            print(f\"Step: {len(energy_list)},\\tenergy: {f}\")\n",
    "    return f, g\n",
    "\n",
    "fun(p0, molecule_pqc)"
   ]
  },
  {
   "cell_type": "code",
   "execution_count": 16,
   "id": "a2b6dea1",
   "metadata": {},
   "outputs": [
    {
     "name": "stdout",
     "output_type": "stream",
     "text": [
      "Step: 5,\tenergy: -7.880530580930981\n",
      "Step: 10,\tenergy: -7.882174730572577\n",
      "Step: 15,\tenergy: -7.882562727447891\n",
      "Step: 20,\tenergy: -7.882708884709802\n",
      "Step: 25,\tenergy: -7.882750900673263\n",
      "Step: 30,\tenergy: -7.882751007241914\n",
      "Step: 35,\tenergy: -7.882751007399819\n"
     ]
    }
   ],
   "source": [
    "from scipy.optimize import minimize\n",
    "\n",
    "energy_list = []\n",
    "res = minimize(fun, p0, args=(molecule_pqc, energy_list), method='bfgs', jac=True)"
   ]
  },
  {
   "cell_type": "code",
   "execution_count": 17,
   "id": "82e40e12",
   "metadata": {},
   "outputs": [
    {
     "name": "stdout",
     "output_type": "stream",
     "text": [
      "Ground state: \n",
      "-7.882751007399819\n",
      "\n",
      "FCI: \n",
      "-7.882362286798721\n",
      "\n",
      "Optimized amplitudes: \n",
      "[ 2.34345856e-04  1.89400267e-03  3.63521253e-02  1.68776277e-02\n",
      "  5.18249855e-10  9.10639091e-04  4.37222623e-10  1.38923003e-02\n",
      "  4.11656882e-09  9.09882890e-04 -1.46346685e-09  1.38972754e-02\n",
      " -5.58182328e-04  4.76406239e-04  3.15054417e-03  5.52847047e-02\n",
      "  2.19019780e-04 -7.44662476e-11  4.77309418e-08 -4.84776955e-08\n",
      " -1.25964213e-09 -2.33999442e-08  2.77919271e-08 -6.52959514e-05\n",
      "  1.14983101e-04  9.11976219e-04 -2.38273173e-10  3.72805293e-10\n",
      " -5.71203426e-02  3.09812128e-03  1.61248235e-11 -7.33354169e-11\n",
      "  7.22964899e-11 -4.01796399e-09  7.05605127e-08 -6.55434318e-08\n",
      "  4.47025720e-14  2.07669387e-10  3.09813932e-03  3.97115612e-09\n",
      " -2.62600046e-07  2.48401094e-07 -8.03010633e-10  3.14520777e-04]\n"
     ]
    }
   ],
   "source": [
    "print(f\"Ground state: \\n{res.fun}\\n\")\n",
    "print(f\"FCI: \\n-7.882362286798721\\n\")\n",
    "print(f\"Optimized amplitudes: \\n{res.x}\")"
   ]
  }
 ],
 "metadata": {
  "kernelspec": {
   "display_name": "Mindquantum-0.9.0",
   "language": "python",
   "name": "mindquantum-0.9.0"
  },
  "language_info": {
   "codemirror_mode": {
    "name": "ipython",
    "version": 3
   },
   "file_extension": ".py",
   "mimetype": "text/x-python",
   "name": "python",
   "nbconvert_exporter": "python",
   "pygments_lexer": "ipython3",
   "version": "3.9.11"
  }
 },
 "nbformat": 4,
 "nbformat_minor": 5
}
