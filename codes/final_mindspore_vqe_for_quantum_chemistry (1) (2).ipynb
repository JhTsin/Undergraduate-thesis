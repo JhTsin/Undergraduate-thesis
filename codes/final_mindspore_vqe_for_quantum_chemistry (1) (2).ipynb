{
 "cells": [
  {
   "cell_type": "code",
   "execution_count": 3,
   "id": "057462ae-05c5-4b1c-ab55-dcc668e2891c",
   "metadata": {},
   "outputs": [],
   "source": [
    "from openfermion.chem import MolecularData\n",
    "from openfermionpyscf import run_pyscf\n",
    "from mindquantum.core.gates import X\n",
    "from mindquantum.core.circuit import Circuit\n",
    "from mindquantum.core.operators import Hamiltonian\n",
    "from mindquantum.simulator import Simulator\n",
    "from mindquantum.algorithm.nisq import generate_uccsd\n",
    "import mindspore as ms\n",
    "import numpy as np\n",
    "from scipy.optimize import minimize"
   ]
  },
  {
   "cell_type": "code",
   "execution_count": 4,
   "id": "2bf9ce0c-7fb3-4741-b431-30fac748fed7",
   "metadata": {},
   "outputs": [],
   "source": [
    "ms.set_context(mode=ms.PYNATIVE_MODE, device_target=\"CPU\")\n",
    "\n",
    "def bound_state_energy(dist):\n",
    "    #dist = 1.545\n",
    "    geometry = [\n",
    "        [\"Li\", [0.0, 0.0, 0.0 * dist]],\n",
    "        [\"H\", [0.0, 0.0, 1.0 * dist]],\n",
    "    ]\n",
    "    basis = \"sto3g\"\n",
    "    spin = 0\n",
    "    #print(\"Geometry: \\n\", geometry)\n",
    "\n",
    "    molecule_of = MolecularData(\n",
    "        geometry,\n",
    "        basis,\n",
    "        multiplicity=2 * spin + 1\n",
    "    )\n",
    "    molecule_of = run_pyscf(\n",
    "        molecule_of,\n",
    "        run_scf=1,\n",
    "        run_ccsd=1,\n",
    "        run_fci=1\n",
    "    )\n",
    "\n",
    "    #print(\"Hartree-Fock energy: %20.16f Ha\" % (molecule_of.hf_energy))\n",
    "    #print(\"CCSD energy: %20.16f Ha\" % (molecule_of.ccsd_energy))\n",
    "    #print(\"FCI energy: %20.16f Ha\" % (molecule_of.fci_energy))\n",
    "\n",
    "    molecule_of.save()\n",
    "    molecule_file = molecule_of.filename\n",
    "    #print(molecule_file.split('/')[-1])\n",
    "\n",
    "    hartreefock_wfn_circuit = Circuit([X.on(i) for i in range(molecule_of.n_electrons)])\n",
    "    #print(hartreefock_wfn_circuit)\n",
    "\n",
    "    ansatz_circuit, \\\n",
    "    init_amplitudes, \\\n",
    "    ansatz_parameter_names, \\\n",
    "    hamiltonian_QubitOp, \\\n",
    "    n_qubits, n_electrons = generate_uccsd(molecule_file, threshold=-1)\n",
    "\n",
    "    total_circuit = hartreefock_wfn_circuit + ansatz_circuit\n",
    "    #total_circuit.summary()\n",
    "    #print(\"Number of parameters: %d\" % (len(ansatz_parameter_names)))\n",
    "\n",
    "    sim = Simulator('mqvector', total_circuit.n_qubits)\n",
    "    molecule_pqc = sim.get_expectation_with_grad(Hamiltonian(hamiltonian_QubitOp), total_circuit)\n",
    "\n",
    "\n",
    "\n",
    "    n_params = len(total_circuit.params_name)\n",
    "    p0 = np.zeros(n_params)\n",
    "    f, g = molecule_pqc(p0)\n",
    "    #print(\"Energy: \", f, \"\\nshape: \", f.shape, '\\n')\n",
    "    #print(\"Gradient: \", g, \"\\nshape: \", g.shape)\n",
    "\n",
    "    def fun(p0, molecule_pqc, energy_list=None):\n",
    "        f, g = molecule_pqc(p0)\n",
    "        f = np.real(f)[0, 0]\n",
    "        g = np.real(g)[0, 0]\n",
    "        if energy_list is not None:\n",
    "            energy_list.append(f)\n",
    "            #if len(energy_list) % 5 == 0:\n",
    "            #    print(f\"Step: {len(energy_list)},\\tenergy: {f}\")\n",
    "        return f, g\n",
    "\n",
    "    fun(p0, molecule_pqc)\n",
    "\n",
    "\n",
    "    energy_list = []\n",
    "    res = minimize(fun, p0, args=(molecule_pqc, energy_list), method='bfgs', jac=True)\n",
    "\n",
    "    print(f\"Ground state: \\n{res.fun}\\n\")\n",
    "    #print(f\"FCI: \\n-7.882362286798721\\n\")\n",
    "    #print(f\"Optimized amplitudes: \\n{res.x}\")\n",
    "    return res.fun"
   ]
  },
  {
   "cell_type": "code",
   "execution_count": 6,
   "id": "b5719c34-a38f-40cf-8706-72f0a5932682",
   "metadata": {},
   "outputs": [
    {
     "name": "stderr",
     "output_type": "stream",
     "text": [
      "/home/ma-user/anaconda3/envs/Mindquantum-0.9.0/lib/python3.9/site-packages/pyscf/dft/libxc.py:771: UserWarning: Since PySCF-2.3, B3LYP (and B3P86) are changed to the VWN-RPA variant, corresponding to the original definition by Stephens et al. (issue 1480) and the same as the B3LYP functional in Gaussian. To restore the VWN5 definition, you can put the setting \"B3LYP_WITH_VWN5 = True\" in pyscf_conf.py\n",
      "  warnings.warn('Since PySCF-2.3, B3LYP (and B3P86) are changed to the VWN-RPA variant, '\n"
     ]
    },
    {
     "name": "stdout",
     "output_type": "stream",
     "text": [
      "ccsd:-7.785963848904687.\n",
      "fci:-7.786082260462156.\n"
     ]
    },
    {
     "data": {
      "text/html": [
       "<pre style=\"white-space:pre;overflow-x:auto;line-height:normal;font-family:Menlo,'DejaVu Sans Mono',consolas,'Courier New',monospace\"><span style=\"color: #ff0000; text-decoration-color: #ff0000; font-weight: bold\">                            Circuit Summary                            </span>\n",
       "╭──────────────────────┬──────────────────────────────────────────────╮\n",
       "│<span style=\"font-weight: bold\"> </span><span style=\"color: #3b3b95; text-decoration-color: #3b3b95; font-weight: bold\">Info</span><span style=\"font-weight: bold\">                 </span>│<span style=\"font-weight: bold\"> </span><span style=\"color: #3b3b95; text-decoration-color: #3b3b95; font-weight: bold\">value</span><span style=\"font-weight: bold\">                                        </span>│\n",
       "├──────────────────────┼──────────────────────────────────────────────┤\n",
       "│ <span style=\"font-weight: bold\">Number of qubit</span>      │ 12                                           │\n",
       "├──────────────────────┼──────────────────────────────────────────────┤\n",
       "│ <span style=\"font-weight: bold\">Total number of gate</span> │ 12612                                        │\n",
       "│ Barrier              │ 2560                                         │\n",
       "│ Noise Channel        │ 0                                            │\n",
       "│ Measurement          │ 0                                            │\n",
       "├──────────────────────┼──────────────────────────────────────────────┤\n",
       "│ <span style=\"font-weight: bold\">Parameter gate</span>       │ 640                                          │\n",
       "│ 44 ansatz parameters │ <span style=\"color: #48c9b0; text-decoration-color: #48c9b0\">p0, p8, p1, p9, p2, p10, p3, p11, p4, p12...</span> │\n",
       "╰──────────────────────┴──────────────────────────────────────────────╯\n",
       "</pre>\n"
      ],
      "text/plain": [
       "\u001b[1;38;2;255;0;0m                            Circuit Summary                            \u001b[0m\n",
       "╭──────────────────────┬──────────────────────────────────────────────╮\n",
       "│\u001b[1m \u001b[0m\u001b[1;38;2;59;59;149mInfo\u001b[0m\u001b[1m                \u001b[0m\u001b[1m \u001b[0m│\u001b[1m \u001b[0m\u001b[1;38;2;59;59;149mvalue\u001b[0m\u001b[1m                                       \u001b[0m\u001b[1m \u001b[0m│\n",
       "├──────────────────────┼──────────────────────────────────────────────┤\n",
       "│ \u001b[1mNumber of qubit\u001b[0m      │ 12                                           │\n",
       "├──────────────────────┼──────────────────────────────────────────────┤\n",
       "│ \u001b[1mTotal number of gate\u001b[0m │ 12612                                        │\n",
       "│ Barrier              │ 2560                                         │\n",
       "│ Noise Channel        │ 0                                            │\n",
       "│ Measurement          │ 0                                            │\n",
       "├──────────────────────┼──────────────────────────────────────────────┤\n",
       "│ \u001b[1mParameter gate\u001b[0m       │ 640                                          │\n",
       "│ 44 ansatz parameters │ \u001b[38;2;72;201;176mp0, p8, p1, p9, p2, p10, p3, p11, p4, p12...\u001b[0m │\n",
       "╰──────────────────────┴──────────────────────────────────────────────╯\n"
      ]
     },
     "metadata": {},
     "output_type": "display_data"
    },
    {
     "name": "stdout",
     "output_type": "stream",
     "text": [
      "Step: 5,\tenergy: -7.749938887966167\n",
      "Step: 10,\tenergy: -7.781405969213414\n",
      "Step: 15,\tenergy: -7.784635657142829\n",
      "Step: 20,\tenergy: -7.785230272381714\n",
      "Step: 25,\tenergy: -7.7858265475613555\n",
      "Step: 30,\tenergy: -7.7858457571696364\n",
      "Step: 35,\tenergy: -7.785845888988802\n",
      "Step: 40,\tenergy: -7.785845900002504\n",
      "Step: 45,\tenergy: -7.7858459003396705\n",
      "Ground state: \n",
      "-7.7858459003396705\n",
      "\n",
      "-7.7858459003396705\n",
      "ccsd:-7.7846319708151706.\n",
      "fci:-7.784754945971652.\n"
     ]
    },
    {
     "data": {
      "text/html": [
       "<pre style=\"white-space:pre;overflow-x:auto;line-height:normal;font-family:Menlo,'DejaVu Sans Mono',consolas,'Courier New',monospace\"><span style=\"color: #ff0000; text-decoration-color: #ff0000; font-weight: bold\">                            Circuit Summary                            </span>\n",
       "╭──────────────────────┬──────────────────────────────────────────────╮\n",
       "│<span style=\"font-weight: bold\"> </span><span style=\"color: #3b3b95; text-decoration-color: #3b3b95; font-weight: bold\">Info</span><span style=\"font-weight: bold\">                 </span>│<span style=\"font-weight: bold\"> </span><span style=\"color: #3b3b95; text-decoration-color: #3b3b95; font-weight: bold\">value</span><span style=\"font-weight: bold\">                                        </span>│\n",
       "├──────────────────────┼──────────────────────────────────────────────┤\n",
       "│ <span style=\"font-weight: bold\">Number of qubit</span>      │ 12                                           │\n",
       "├──────────────────────┼──────────────────────────────────────────────┤\n",
       "│ <span style=\"font-weight: bold\">Total number of gate</span> │ 12612                                        │\n",
       "│ Barrier              │ 2560                                         │\n",
       "│ Noise Channel        │ 0                                            │\n",
       "│ Measurement          │ 0                                            │\n",
       "├──────────────────────┼──────────────────────────────────────────────┤\n",
       "│ <span style=\"font-weight: bold\">Parameter gate</span>       │ 640                                          │\n",
       "│ 44 ansatz parameters │ <span style=\"color: #48c9b0; text-decoration-color: #48c9b0\">p0, p8, p1, p9, p2, p10, p3, p11, p4, p12...</span> │\n",
       "╰──────────────────────┴──────────────────────────────────────────────╯\n",
       "</pre>\n"
      ],
      "text/plain": [
       "\u001b[1;38;2;255;0;0m                            Circuit Summary                            \u001b[0m\n",
       "╭──────────────────────┬──────────────────────────────────────────────╮\n",
       "│\u001b[1m \u001b[0m\u001b[1;38;2;59;59;149mInfo\u001b[0m\u001b[1m                \u001b[0m\u001b[1m \u001b[0m│\u001b[1m \u001b[0m\u001b[1;38;2;59;59;149mvalue\u001b[0m\u001b[1m                                       \u001b[0m\u001b[1m \u001b[0m│\n",
       "├──────────────────────┼──────────────────────────────────────────────┤\n",
       "│ \u001b[1mNumber of qubit\u001b[0m      │ 12                                           │\n",
       "├──────────────────────┼──────────────────────────────────────────────┤\n",
       "│ \u001b[1mTotal number of gate\u001b[0m │ 12612                                        │\n",
       "│ Barrier              │ 2560                                         │\n",
       "│ Noise Channel        │ 0                                            │\n",
       "│ Measurement          │ 0                                            │\n",
       "├──────────────────────┼──────────────────────────────────────────────┤\n",
       "│ \u001b[1mParameter gate\u001b[0m       │ 640                                          │\n",
       "│ 44 ansatz parameters │ \u001b[38;2;72;201;176mp0, p8, p1, p9, p2, p10, p3, p11, p4, p12...\u001b[0m │\n",
       "╰──────────────────────┴──────────────────────────────────────────────╯\n"
      ]
     },
     "metadata": {},
     "output_type": "display_data"
    },
    {
     "name": "stdout",
     "output_type": "stream",
     "text": [
      "Step: 5,\tenergy: -7.750958997683585\n",
      "Step: 10,\tenergy: -7.782394128601714\n",
      "Step: 15,\tenergy: -7.783672448078676\n",
      "Step: 20,\tenergy: -7.784362816032568\n",
      "Step: 25,\tenergy: -7.784539526451378\n",
      "Step: 30,\tenergy: -7.784544324456643\n",
      "Ground state: \n",
      "-7.784544358734444\n",
      "\n",
      "-7.784544358734444\n",
      "ccsd:-7.7837691293203255.\n",
      "fci:-7.783895276224047.\n"
     ]
    },
    {
     "data": {
      "text/html": [
       "<pre style=\"white-space:pre;overflow-x:auto;line-height:normal;font-family:Menlo,'DejaVu Sans Mono',consolas,'Courier New',monospace\"><span style=\"color: #ff0000; text-decoration-color: #ff0000; font-weight: bold\">                            Circuit Summary                            </span>\n",
       "╭──────────────────────┬──────────────────────────────────────────────╮\n",
       "│<span style=\"font-weight: bold\"> </span><span style=\"color: #3b3b95; text-decoration-color: #3b3b95; font-weight: bold\">Info</span><span style=\"font-weight: bold\">                 </span>│<span style=\"font-weight: bold\"> </span><span style=\"color: #3b3b95; text-decoration-color: #3b3b95; font-weight: bold\">value</span><span style=\"font-weight: bold\">                                        </span>│\n",
       "├──────────────────────┼──────────────────────────────────────────────┤\n",
       "│ <span style=\"font-weight: bold\">Number of qubit</span>      │ 12                                           │\n",
       "├──────────────────────┼──────────────────────────────────────────────┤\n",
       "│ <span style=\"font-weight: bold\">Total number of gate</span> │ 12612                                        │\n",
       "│ Barrier              │ 2560                                         │\n",
       "│ Noise Channel        │ 0                                            │\n",
       "│ Measurement          │ 0                                            │\n",
       "├──────────────────────┼──────────────────────────────────────────────┤\n",
       "│ <span style=\"font-weight: bold\">Parameter gate</span>       │ 640                                          │\n",
       "│ 44 ansatz parameters │ <span style=\"color: #48c9b0; text-decoration-color: #48c9b0\">p0, p8, p1, p9, p2, p10, p3, p11, p4, p12...</span> │\n",
       "╰──────────────────────┴──────────────────────────────────────────────╯\n",
       "</pre>\n"
      ],
      "text/plain": [
       "\u001b[1;38;2;255;0;0m                            Circuit Summary                            \u001b[0m\n",
       "╭──────────────────────┬──────────────────────────────────────────────╮\n",
       "│\u001b[1m \u001b[0m\u001b[1;38;2;59;59;149mInfo\u001b[0m\u001b[1m                \u001b[0m\u001b[1m \u001b[0m│\u001b[1m \u001b[0m\u001b[1;38;2;59;59;149mvalue\u001b[0m\u001b[1m                                       \u001b[0m\u001b[1m \u001b[0m│\n",
       "├──────────────────────┼──────────────────────────────────────────────┤\n",
       "│ \u001b[1mNumber of qubit\u001b[0m      │ 12                                           │\n",
       "├──────────────────────┼──────────────────────────────────────────────┤\n",
       "│ \u001b[1mTotal number of gate\u001b[0m │ 12612                                        │\n",
       "│ Barrier              │ 2560                                         │\n",
       "│ Noise Channel        │ 0                                            │\n",
       "│ Measurement          │ 0                                            │\n",
       "├──────────────────────┼──────────────────────────────────────────────┤\n",
       "│ \u001b[1mParameter gate\u001b[0m       │ 640                                          │\n",
       "│ 44 ansatz parameters │ \u001b[38;2;72;201;176mp0, p8, p1, p9, p2, p10, p3, p11, p4, p12...\u001b[0m │\n",
       "╰──────────────────────┴──────────────────────────────────────────────╯\n"
      ]
     },
     "metadata": {},
     "output_type": "display_data"
    },
    {
     "name": "stdout",
     "output_type": "stream",
     "text": [
      "Step: 5,\tenergy: -7.753613979442075\n",
      "Step: 10,\tenergy: -7.780781509675049\n",
      "Step: 15,\tenergy: -7.782949137174724\n",
      "Step: 20,\tenergy: -7.783571400858244\n",
      "Step: 25,\tenergy: -7.783696942274598\n",
      "Step: 30,\tenergy: -7.783707684455422\n",
      "Step: 35,\tenergy: -7.783707741858803\n",
      "Ground state: \n",
      "-7.7837077422431005\n",
      "\n",
      "-7.7837077422431005\n",
      "ccsd:-7.7832144922477555.\n",
      "fci:-7.783342929832484.\n"
     ]
    },
    {
     "data": {
      "text/html": [
       "<pre style=\"white-space:pre;overflow-x:auto;line-height:normal;font-family:Menlo,'DejaVu Sans Mono',consolas,'Courier New',monospace\"><span style=\"color: #ff0000; text-decoration-color: #ff0000; font-weight: bold\">                            Circuit Summary                            </span>\n",
       "╭──────────────────────┬──────────────────────────────────────────────╮\n",
       "│<span style=\"font-weight: bold\"> </span><span style=\"color: #3b3b95; text-decoration-color: #3b3b95; font-weight: bold\">Info</span><span style=\"font-weight: bold\">                 </span>│<span style=\"font-weight: bold\"> </span><span style=\"color: #3b3b95; text-decoration-color: #3b3b95; font-weight: bold\">value</span><span style=\"font-weight: bold\">                                        </span>│\n",
       "├──────────────────────┼──────────────────────────────────────────────┤\n",
       "│ <span style=\"font-weight: bold\">Number of qubit</span>      │ 12                                           │\n",
       "├──────────────────────┼──────────────────────────────────────────────┤\n",
       "│ <span style=\"font-weight: bold\">Total number of gate</span> │ 12612                                        │\n",
       "│ Barrier              │ 2560                                         │\n",
       "│ Noise Channel        │ 0                                            │\n",
       "│ Measurement          │ 0                                            │\n",
       "├──────────────────────┼──────────────────────────────────────────────┤\n",
       "│ <span style=\"font-weight: bold\">Parameter gate</span>       │ 640                                          │\n",
       "│ 44 ansatz parameters │ <span style=\"color: #48c9b0; text-decoration-color: #48c9b0\">p0, p8, p1, p9, p2, p10, p3, p11, p4, p12...</span> │\n",
       "╰──────────────────────┴──────────────────────────────────────────────╯\n",
       "</pre>\n"
      ],
      "text/plain": [
       "\u001b[1;38;2;255;0;0m                            Circuit Summary                            \u001b[0m\n",
       "╭──────────────────────┬──────────────────────────────────────────────╮\n",
       "│\u001b[1m \u001b[0m\u001b[1;38;2;59;59;149mInfo\u001b[0m\u001b[1m                \u001b[0m\u001b[1m \u001b[0m│\u001b[1m \u001b[0m\u001b[1;38;2;59;59;149mvalue\u001b[0m\u001b[1m                                       \u001b[0m\u001b[1m \u001b[0m│\n",
       "├──────────────────────┼──────────────────────────────────────────────┤\n",
       "│ \u001b[1mNumber of qubit\u001b[0m      │ 12                                           │\n",
       "├──────────────────────┼──────────────────────────────────────────────┤\n",
       "│ \u001b[1mTotal number of gate\u001b[0m │ 12612                                        │\n",
       "│ Barrier              │ 2560                                         │\n",
       "│ Noise Channel        │ 0                                            │\n",
       "│ Measurement          │ 0                                            │\n",
       "├──────────────────────┼──────────────────────────────────────────────┤\n",
       "│ \u001b[1mParameter gate\u001b[0m       │ 640                                          │\n",
       "│ 44 ansatz parameters │ \u001b[38;2;72;201;176mp0, p8, p1, p9, p2, p10, p3, p11, p4, p12...\u001b[0m │\n",
       "╰──────────────────────┴──────────────────────────────────────────────╯\n"
      ]
     },
     "metadata": {},
     "output_type": "display_data"
    },
    {
     "name": "stdout",
     "output_type": "stream",
     "text": [
      "Step: 5,\tenergy: -7.756625851809795\n",
      "Step: 10,\tenergy: -7.778808527714132\n",
      "Step: 15,\tenergy: -7.782290666924344\n",
      "Step: 20,\tenergy: -7.782981487657024\n",
      "Step: 25,\tenergy: -7.783153290441594\n",
      "Step: 30,\tenergy: -7.783171537718077\n",
      "Step: 35,\tenergy: -7.783171546496087\n",
      "Ground state: \n",
      "-7.783171551272301\n",
      "\n",
      "-7.783171551272301\n",
      "ccsd:-7.782860998111018.\n",
      "fci:-7.782991125443986.\n"
     ]
    },
    {
     "data": {
      "text/html": [
       "<pre style=\"white-space:pre;overflow-x:auto;line-height:normal;font-family:Menlo,'DejaVu Sans Mono',consolas,'Courier New',monospace\"><span style=\"color: #ff0000; text-decoration-color: #ff0000; font-weight: bold\">                            Circuit Summary                            </span>\n",
       "╭──────────────────────┬──────────────────────────────────────────────╮\n",
       "│<span style=\"font-weight: bold\"> </span><span style=\"color: #3b3b95; text-decoration-color: #3b3b95; font-weight: bold\">Info</span><span style=\"font-weight: bold\">                 </span>│<span style=\"font-weight: bold\"> </span><span style=\"color: #3b3b95; text-decoration-color: #3b3b95; font-weight: bold\">value</span><span style=\"font-weight: bold\">                                        </span>│\n",
       "├──────────────────────┼──────────────────────────────────────────────┤\n",
       "│ <span style=\"font-weight: bold\">Number of qubit</span>      │ 12                                           │\n",
       "├──────────────────────┼──────────────────────────────────────────────┤\n",
       "│ <span style=\"font-weight: bold\">Total number of gate</span> │ 12612                                        │\n",
       "│ Barrier              │ 2560                                         │\n",
       "│ Noise Channel        │ 0                                            │\n",
       "│ Measurement          │ 0                                            │\n",
       "├──────────────────────┼──────────────────────────────────────────────┤\n",
       "│ <span style=\"font-weight: bold\">Parameter gate</span>       │ 640                                          │\n",
       "│ 44 ansatz parameters │ <span style=\"color: #48c9b0; text-decoration-color: #48c9b0\">p0, p8, p1, p9, p2, p10, p3, p11, p4, p12...</span> │\n",
       "╰──────────────────────┴──────────────────────────────────────────────╯\n",
       "</pre>\n"
      ],
      "text/plain": [
       "\u001b[1;38;2;255;0;0m                            Circuit Summary                            \u001b[0m\n",
       "╭──────────────────────┬──────────────────────────────────────────────╮\n",
       "│\u001b[1m \u001b[0m\u001b[1;38;2;59;59;149mInfo\u001b[0m\u001b[1m                \u001b[0m\u001b[1m \u001b[0m│\u001b[1m \u001b[0m\u001b[1;38;2;59;59;149mvalue\u001b[0m\u001b[1m                                       \u001b[0m\u001b[1m \u001b[0m│\n",
       "├──────────────────────┼──────────────────────────────────────────────┤\n",
       "│ \u001b[1mNumber of qubit\u001b[0m      │ 12                                           │\n",
       "├──────────────────────┼──────────────────────────────────────────────┤\n",
       "│ \u001b[1mTotal number of gate\u001b[0m │ 12612                                        │\n",
       "│ Barrier              │ 2560                                         │\n",
       "│ Noise Channel        │ 0                                            │\n",
       "│ Measurement          │ 0                                            │\n",
       "├──────────────────────┼──────────────────────────────────────────────┤\n",
       "│ \u001b[1mParameter gate\u001b[0m       │ 640                                          │\n",
       "│ 44 ansatz parameters │ \u001b[38;2;72;201;176mp0, p8, p1, p9, p2, p10, p3, p11, p4, p12...\u001b[0m │\n",
       "╰──────────────────────┴──────────────────────────────────────────────╯\n"
      ]
     },
     "metadata": {},
     "output_type": "display_data"
    },
    {
     "name": "stdout",
     "output_type": "stream",
     "text": [
      "Step: 5,\tenergy: -7.75933515234889\n",
      "Step: 10,\tenergy: -7.7797729583708355\n",
      "Step: 15,\tenergy: -7.782241565792862\n",
      "Step: 20,\tenergy: -7.78267202446862\n",
      "Step: 25,\tenergy: -7.782813586501548\n",
      "Step: 30,\tenergy: -7.782829612955002\n",
      "Step: 35,\tenergy: -7.782829617965767\n",
      "Ground state: \n",
      "-7.782829618107041\n",
      "\n",
      "-7.782829618107041\n",
      "ccsd:-7.782637685538515.\n",
      "fci:-7.782769215856444.\n"
     ]
    },
    {
     "data": {
      "text/html": [
       "<pre style=\"white-space:pre;overflow-x:auto;line-height:normal;font-family:Menlo,'DejaVu Sans Mono',consolas,'Courier New',monospace\"><span style=\"color: #ff0000; text-decoration-color: #ff0000; font-weight: bold\">                            Circuit Summary                            </span>\n",
       "╭──────────────────────┬──────────────────────────────────────────────╮\n",
       "│<span style=\"font-weight: bold\"> </span><span style=\"color: #3b3b95; text-decoration-color: #3b3b95; font-weight: bold\">Info</span><span style=\"font-weight: bold\">                 </span>│<span style=\"font-weight: bold\"> </span><span style=\"color: #3b3b95; text-decoration-color: #3b3b95; font-weight: bold\">value</span><span style=\"font-weight: bold\">                                        </span>│\n",
       "├──────────────────────┼──────────────────────────────────────────────┤\n",
       "│ <span style=\"font-weight: bold\">Number of qubit</span>      │ 12                                           │\n",
       "├──────────────────────┼──────────────────────────────────────────────┤\n",
       "│ <span style=\"font-weight: bold\">Total number of gate</span> │ 12612                                        │\n",
       "│ Barrier              │ 2560                                         │\n",
       "│ Noise Channel        │ 0                                            │\n",
       "│ Measurement          │ 0                                            │\n",
       "├──────────────────────┼──────────────────────────────────────────────┤\n",
       "│ <span style=\"font-weight: bold\">Parameter gate</span>       │ 640                                          │\n",
       "│ 44 ansatz parameters │ <span style=\"color: #48c9b0; text-decoration-color: #48c9b0\">p0, p8, p1, p9, p2, p10, p3, p11, p4, p12...</span> │\n",
       "╰──────────────────────┴──────────────────────────────────────────────╯\n",
       "</pre>\n"
      ],
      "text/plain": [
       "\u001b[1;38;2;255;0;0m                            Circuit Summary                            \u001b[0m\n",
       "╭──────────────────────┬──────────────────────────────────────────────╮\n",
       "│\u001b[1m \u001b[0m\u001b[1;38;2;59;59;149mInfo\u001b[0m\u001b[1m                \u001b[0m\u001b[1m \u001b[0m│\u001b[1m \u001b[0m\u001b[1;38;2;59;59;149mvalue\u001b[0m\u001b[1m                                       \u001b[0m\u001b[1m \u001b[0m│\n",
       "├──────────────────────┼──────────────────────────────────────────────┤\n",
       "│ \u001b[1mNumber of qubit\u001b[0m      │ 12                                           │\n",
       "├──────────────────────┼──────────────────────────────────────────────┤\n",
       "│ \u001b[1mTotal number of gate\u001b[0m │ 12612                                        │\n",
       "│ Barrier              │ 2560                                         │\n",
       "│ Noise Channel        │ 0                                            │\n",
       "│ Measurement          │ 0                                            │\n",
       "├──────────────────────┼──────────────────────────────────────────────┤\n",
       "│ \u001b[1mParameter gate\u001b[0m       │ 640                                          │\n",
       "│ 44 ansatz parameters │ \u001b[38;2;72;201;176mp0, p8, p1, p9, p2, p10, p3, p11, p4, p12...\u001b[0m │\n",
       "╰──────────────────────┴──────────────────────────────────────────────╯\n"
      ]
     },
     "metadata": {},
     "output_type": "display_data"
    },
    {
     "name": "stdout",
     "output_type": "stream",
     "text": [
      "Step: 5,\tenergy: -7.761535350551047\n",
      "Step: 10,\tenergy: -7.779382124004147\n",
      "Step: 15,\tenergy: -7.781961436427307\n",
      "Step: 20,\tenergy: -7.782456255039782\n",
      "Step: 25,\tenergy: -7.782537619708354\n",
      "Step: 30,\tenergy: -7.782611609510623\n",
      "Step: 35,\tenergy: -7.782613239826657\n",
      "Step: 40,\tenergy: -7.782613244735935\n",
      "Step: 45,\tenergy: -7.782613245065773\n",
      "Ground state: \n",
      "-7.782613245079565\n",
      "\n",
      "-7.782613245079565\n",
      "ccsd:-7.782490147697066.\n",
      "fci:-7.782630729769698.\n"
     ]
    },
    {
     "data": {
      "text/html": [
       "<pre style=\"white-space:pre;overflow-x:auto;line-height:normal;font-family:Menlo,'DejaVu Sans Mono',consolas,'Courier New',monospace\"><span style=\"color: #ff0000; text-decoration-color: #ff0000; font-weight: bold\">                            Circuit Summary                            </span>\n",
       "╭──────────────────────┬──────────────────────────────────────────────╮\n",
       "│<span style=\"font-weight: bold\"> </span><span style=\"color: #3b3b95; text-decoration-color: #3b3b95; font-weight: bold\">Info</span><span style=\"font-weight: bold\">                 </span>│<span style=\"font-weight: bold\"> </span><span style=\"color: #3b3b95; text-decoration-color: #3b3b95; font-weight: bold\">value</span><span style=\"font-weight: bold\">                                        </span>│\n",
       "├──────────────────────┼──────────────────────────────────────────────┤\n",
       "│ <span style=\"font-weight: bold\">Number of qubit</span>      │ 12                                           │\n",
       "├──────────────────────┼──────────────────────────────────────────────┤\n",
       "│ <span style=\"font-weight: bold\">Total number of gate</span> │ 12612                                        │\n",
       "│ Barrier              │ 2560                                         │\n",
       "│ Noise Channel        │ 0                                            │\n",
       "│ Measurement          │ 0                                            │\n",
       "├──────────────────────┼──────────────────────────────────────────────┤\n",
       "│ <span style=\"font-weight: bold\">Parameter gate</span>       │ 640                                          │\n",
       "│ 44 ansatz parameters │ <span style=\"color: #48c9b0; text-decoration-color: #48c9b0\">p0, p8, p1, p9, p2, p10, p3, p11, p4, p12...</span> │\n",
       "╰──────────────────────┴──────────────────────────────────────────────╯\n",
       "</pre>\n"
      ],
      "text/plain": [
       "\u001b[1;38;2;255;0;0m                            Circuit Summary                            \u001b[0m\n",
       "╭──────────────────────┬──────────────────────────────────────────────╮\n",
       "│\u001b[1m \u001b[0m\u001b[1;38;2;59;59;149mInfo\u001b[0m\u001b[1m                \u001b[0m\u001b[1m \u001b[0m│\u001b[1m \u001b[0m\u001b[1;38;2;59;59;149mvalue\u001b[0m\u001b[1m                                       \u001b[0m\u001b[1m \u001b[0m│\n",
       "├──────────────────────┼──────────────────────────────────────────────┤\n",
       "│ \u001b[1mNumber of qubit\u001b[0m      │ 12                                           │\n",
       "├──────────────────────┼──────────────────────────────────────────────┤\n",
       "│ \u001b[1mTotal number of gate\u001b[0m │ 12612                                        │\n",
       "│ Barrier              │ 2560                                         │\n",
       "│ Noise Channel        │ 0                                            │\n",
       "│ Measurement          │ 0                                            │\n",
       "├──────────────────────┼──────────────────────────────────────────────┤\n",
       "│ \u001b[1mParameter gate\u001b[0m       │ 640                                          │\n",
       "│ 44 ansatz parameters │ \u001b[38;2;72;201;176mp0, p8, p1, p9, p2, p10, p3, p11, p4, p12...\u001b[0m │\n",
       "╰──────────────────────┴──────────────────────────────────────────────╯\n"
      ]
     },
     "metadata": {},
     "output_type": "display_data"
    },
    {
     "name": "stdout",
     "output_type": "stream",
     "text": [
      "Step: 5,\tenergy: -7.766343328530688\n",
      "Step: 10,\tenergy: -7.774070783810239\n",
      "Step: 15,\tenergy: -7.780983461568608\n",
      "Step: 20,\tenergy: -7.782329913389713\n",
      "Step: 25,\tenergy: -7.782446972674575\n",
      "Step: 30,\tenergy: -7.782472660933419\n",
      "Step: 35,\tenergy: -7.78247300767706\n",
      "Ground state: \n",
      "-7.782473024607026\n",
      "\n",
      "-7.782473024607026\n"
     ]
    }
   ],
   "source": [
    "for i in np.arange(3.7, 5.0, 0.2):\n",
    "    bse = bound_state_energy(i)\n",
    "    a.append(bse)\n",
    "    print(bse)"
   ]
  },
  {
   "cell_type": "code",
   "execution_count": 21,
   "id": "0722dba6-e4b3-4538-b908-4aa91787da2c",
   "metadata": {},
   "outputs": [
    {
     "name": "stdout",
     "output_type": "stream",
     "text": [
      "[2.762955106160229, -5.881621570901241, -7.050163308609229, -7.505041410271693, -7.723418270810681, -7.825531340863018, -7.869132659181738, -7.882352708349911, -7.879421024144469, -7.8682239707169845, -7.853438898547254, -7.837968246128274, -7.823663937861765, -7.811635936914568, -7.802323917669943, -7.795587827715761, -7.790950542642389, -7.787861731855147, -7.7858459003396705, -7.784544358734444, -7.7837077422431005, -7.783171551272301, -7.782829618107041, -7.782613245079565, -7.782473024607026]\n"
     ]
    }
   ],
   "source": [
    "c = []\n",
    "\n",
    "# 将数字逐个添加到列表 a 中\n",
    "c.append(2.762955106160229)\n",
    "c.append(-5.881621570901241)\n",
    "c.append(-7.050163308609229)\n",
    "c.append(-7.505041410271693)\n",
    "c.append(-7.723418270810681)\n",
    "c.append(-7.825531340863018)\n",
    "c.append(-7.869132659181738)\n",
    "c.append(-7.882352708349911)\n",
    "c.append(-7.879421024144469)\n",
    "c.append(-7.8682239707169845)\n",
    "c.append(-7.853438898547254)\n",
    "c.append(-7.837968246128274)\n",
    "c.append(-7.823663937861765)\n",
    "c.append(-7.811635936914568)\n",
    "c.append(-7.802323917669943)\n",
    "c.append(-7.795587827715761)\n",
    "c.append(-7.790950542642389)\n",
    "c.append(-7.787861731855147)\n",
    "c.append(-7.7858459003396705)\n",
    "c.append(-7.784544358734444)\n",
    "c.append(-7.7837077422431005)\n",
    "c.append(-7.783171551272301)\n",
    "c.append(-7.782829618107041)\n",
    "c.append(-7.782613245079565)\n",
    "c.append(-7.782473024607026)\n",
    "print(c)"
   ]
  },
  {
   "cell_type": "code",
   "execution_count": 22,
   "id": "38db9350-4e36-412f-bee7-5421f711c4e4",
   "metadata": {},
   "outputs": [
    {
     "data": {
      "image/png": "[encoded data removed]",
      "text/plain": [
       "<Figure size 640x480 with 1 Axes>"
      ]
     },
     "metadata": {},
     "output_type": "display_data"
    }
   ],
   "source": [
    "import matplotlib.pyplot as plt\n",
    "\n",
    "# 生成横坐标的值\n",
    "x = [0.1 + 0.2*i for i in range(len(c))]\n",
    "\n",
    "# 绘制图形\n",
    "plt.plot(x, c, marker='o', linestyle='-')\n",
    "\n",
    "# 设置标题和标签\n",
    "\n",
    "plt.xlabel('Interatomic distance($\\AA$)')\n",
    "\n",
    "# 显示网格线\n",
    "plt.grid(0)\n",
    "\n",
    "\n",
    "# 显示图形\n",
    "plt.show()\n"
   ]
  },
  {
   "cell_type": "code",
   "execution_count": null,
   "id": "c643f6f8-d21d-4ca5-ad2a-24b85279b129",
   "metadata": {},
   "outputs": [],
   "source": []
  }
 ],
 "metadata": {
  "kernelspec": {
   "display_name": "Mindquantum-0.9.0",
   "language": "python",
   "name": "mindquantum-0.9.0"
  },
  "language_info": {
   "codemirror_mode": {
    "name": "ipython",
    "version": 3
   },
   "file_extension": ".py",
   "mimetype": "text/x-python",
   "name": "python",
   "nbconvert_exporter": "python",
   "pygments_lexer": "ipython3",
   "version": "3.9.11"
  }
 },
 "nbformat": 4,
 "nbformat_minor": 5
}
